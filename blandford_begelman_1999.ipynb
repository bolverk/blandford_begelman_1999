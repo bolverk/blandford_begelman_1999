{
 "cells": [
  {
   "cell_type": "markdown",
   "metadata": {
    "deletable": true,
    "editable": true
   },
   "source": [
    "[ADS Entry](http://adsabs.harvard.edu/abs/1999MNRAS.303L...1B)"
   ]
  },
  {
   "cell_type": "code",
   "execution_count": 73,
   "metadata": {
    "collapsed": true,
    "deletable": true,
    "editable": true
   },
   "outputs": [],
   "source": [
    "import sympy\n",
    "sympy.init_printing()"
   ]
  },
  {
   "cell_type": "markdown",
   "metadata": {
    "deletable": true,
    "editable": true
   },
   "source": [
    "Equation 1"
   ]
  },
  {
   "cell_type": "code",
   "execution_count": 74,
   "metadata": {
    "collapsed": false,
    "deletable": true,
    "editable": true
   },
   "outputs": [
    {
     "data": {
      "image/png": "[encoded data removed]",
      "text/latex": [
       "$$\\left [ \\frac{\\partial}{\\partial t} \\mu{\\left (r,t \\right )} = \\mu{\\left (r,t \\right )} \\frac{\\partial}{\\partial r} v{\\left (r,t \\right )} + v{\\left (r,t \\right )} \\frac{\\partial}{\\partial r} \\mu{\\left (r,t \\right )}, \\quad l{\\left (r,t \\right )} \\frac{\\partial}{\\partial t} \\mu{\\left (r,t \\right )} + \\mu{\\left (r,t \\right )} \\frac{\\partial}{\\partial t} l{\\left (r,t \\right )} = l{\\left (r,t \\right )} \\mu{\\left (r,t \\right )} \\frac{\\partial}{\\partial r} v{\\left (r,t \\right )} + l{\\left (r,t \\right )} v{\\left (r,t \\right )} \\frac{\\partial}{\\partial r} \\mu{\\left (r,t \\right )} + \\mu{\\left (r,t \\right )} v{\\left (r,t \\right )} \\frac{\\partial}{\\partial r} l{\\left (r,t \\right )} - \\frac{\\partial}{\\partial r} G{\\left (r,t \\right )}\\right ]$$"
      ],
      "text/plain": [
       "⎡∂                     ∂                     ∂                    ∂           \n",
       "⎢──(μ(r, t)) = μ(r, t)⋅──(v(r, t)) + v(r, t)⋅──(μ(r, t)), l(r, t)⋅──(μ(r, t)) \n",
       "⎣∂t                    ∂r                    ∂r                   ∂t          \n",
       "\n",
       "          ∂                             ∂                             ∂       \n",
       "+ μ(r, t)⋅──(l(r, t)) = l(r, t)⋅μ(r, t)⋅──(v(r, t)) + l(r, t)⋅v(r, t)⋅──(μ(r, \n",
       "          ∂t                            ∂r                            ∂r      \n",
       "\n",
       "                      ∂             ∂          ⎤\n",
       "t)) + μ(r, t)⋅v(r, t)⋅──(l(r, t)) - ──(G(r, t))⎥\n",
       "                      ∂r            ∂r         ⎦"
      ]
     },
     "execution_count": 74,
     "metadata": {},
     "output_type": "execute_result"
    }
   ],
   "source": [
    "mu = sympy.Symbol('mu') # Mass per unit radius\n",
    "v = sympy.Symbol('v') # Radial velocity\n",
    "t = sympy.Symbol('t') # Time\n",
    "r = sympy.Symbol('r') # Radius\n",
    "G = sympy.Symbol('G') # Torque\n",
    "l = sympy.Symbol('l') # Specific angular momentum\n",
    "eqn_1 = [sympy.Eq(mu(r,t).diff(t),(mu(r,t)*v(r,t)).diff(r)),\n",
    "        sympy.Eq((mu(r,t)*l(r,t)).diff(t),(mu(r,t)*v(r,t)*l(r,t)).diff(r)-G(r,t).diff(r))]\n",
    "eqn_1"
   ]
  },
  {
   "cell_type": "markdown",
   "metadata": {
    "deletable": true,
    "editable": true
   },
   "source": [
    "Equation 2"
   ]
  },
  {
   "cell_type": "code",
   "execution_count": 75,
   "metadata": {
    "collapsed": false,
    "deletable": true,
    "editable": true
   },
   "outputs": [
    {
     "data": {
      "image/png": "[encoded data removed]",
      "text/latex": [
       "$$\\left [ \\frac{\\partial}{\\partial r} G{\\left (r,t \\right )} = \\frac{l{\\left (r,t \\right )}}{2 r} \\mu{\\left (r,t \\right )} v{\\left (r,t \\right )}, \\quad \\frac{\\partial}{\\partial t} \\mu{\\left (r,t \\right )} = 2 \\sqrt{r} \\frac{\\partial^{2}}{\\partial r^{2}}  G{\\left (r,t \\right )} + \\frac{1}{\\sqrt{r}} \\frac{\\partial}{\\partial r} G{\\left (r,t \\right )}\\right ]$$"
      ],
      "text/plain": [
       "⎡                                                                         ∂   \n",
       "⎢                                                            2            ──(G\n",
       "⎢∂             l(r, t)⋅μ(r, t)⋅v(r, t)  ∂                   ∂             ∂r  \n",
       "⎢──(G(r, t)) = ───────────────────────, ──(μ(r, t)) = 2⋅√r⋅───(G(r, t)) + ────\n",
       "⎢∂r                      2⋅r            ∂t                   2                \n",
       "⎣                                                          ∂r                 \n",
       "\n",
       "       ⎤\n",
       "(r, t))⎥\n",
       "       ⎥\n",
       "───────⎥\n",
       " √r    ⎥\n",
       "       ⎦"
      ]
     },
     "execution_count": 75,
     "metadata": {},
     "output_type": "execute_result"
    }
   ],
   "source": [
    "eqn_2 = [sympy.Eq(G(r,t).diff(r),mu(r,t)*v(r,t)*l(r,t)/(2*r)),\n",
    "        sympy.Eq(mu(r,t).diff(t),2*(sympy.sqrt(r)*G(r,t).diff(r)).diff(r))]\n",
    "eqn_2"
   ]
  },
  {
   "cell_type": "markdown",
   "metadata": {
    "deletable": true,
    "editable": true
   },
   "source": [
    "Verification of equation 2"
   ]
  },
  {
   "cell_type": "code",
   "execution_count": 76,
   "metadata": {
    "collapsed": false,
    "deletable": true,
    "editable": true
   },
   "outputs": [],
   "source": [
    "_ = eqn_2[:]\n",
    "_ = [itm.subs(sympy.solve(eqn_1,[mu(r,t).diff(t),G(r,t).diff(r)])) for itm in _]\n",
    "_ = [itm.subs(l(r,t),sympy.sqrt(r)) for itm in _]\n",
    "_ = [itm.simplify() for itm in _]\n",
    "_ = [itm.doit() for itm in _]\n",
    "assert(_[0])\n",
    "assert(_[1].simplify())"
   ]
  },
  {
   "cell_type": "markdown",
   "metadata": {
    "deletable": true,
    "editable": true
   },
   "source": [
    "Equation 3"
   ]
  },
  {
   "cell_type": "code",
   "execution_count": 77,
   "metadata": {
    "collapsed": false,
    "deletable": true,
    "editable": true
   },
   "outputs": [
    {
     "data": {
      "image/png": "[encoded data removed]",
      "text/latex": [
       "$$G{\\left (r,t \\right )} \\frac{\\partial}{\\partial r} \\Omega{\\left (r,t \\right )} + \\frac{1}{2} \\Omega{\\left (r,t \\right )} l{\\left (r,t \\right )} \\mu{\\left (r,t \\right )} \\frac{\\partial}{\\partial r} v{\\left (r,t \\right )} + \\frac{1}{2} \\Omega{\\left (r,t \\right )} l{\\left (r,t \\right )} v{\\left (r,t \\right )} \\frac{\\partial}{\\partial r} \\mu{\\left (r,t \\right )} - \\frac{1}{2} \\Omega{\\left (r,t \\right )} l{\\left (r,t \\right )} \\frac{\\partial}{\\partial t} \\mu{\\left (r,t \\right )} + \\Omega{\\left (r,t \\right )} \\frac{\\partial}{\\partial r} G{\\left (r,t \\right )} - \\mu{\\left (r,t \\right )} v{\\left (r,t \\right )} \\frac{\\partial}{\\partial r}\\left(- \\frac{1}{2} \\Omega{\\left (r,t \\right )} l{\\left (r,t \\right )}\\right) + \\mu{\\left (r,t \\right )} \\frac{\\partial}{\\partial t}\\left(- \\frac{1}{2} \\Omega{\\left (r,t \\right )} l{\\left (r,t \\right )}\\right) = G{\\left (r,t \\right )} \\frac{\\partial}{\\partial r} \\Omega{\\left (r,t \\right )}$$"
      ],
      "text/plain": [
       "                                              ∂                               \n",
       "                      Ω(r, t)⋅l(r, t)⋅μ(r, t)⋅──(v(r, t))   Ω(r, t)⋅l(r, t)⋅v(\n",
       "        ∂                                     ∂r                              \n",
       "G(r, t)⋅──(Ω(r, t)) + ─────────────────────────────────── + ──────────────────\n",
       "        ∂r                             2                                     2\n",
       "\n",
       "      ∂                             ∂                                         \n",
       "r, t)⋅──(μ(r, t))   Ω(r, t)⋅l(r, t)⋅──(μ(r, t))                               \n",
       "      ∂r                            ∂t                    ∂                   \n",
       "───────────────── - ─────────────────────────── + Ω(r, t)⋅──(G(r, t)) - μ(r, t\n",
       "                                 2                        ∂r                  \n",
       "\n",
       "                                                                              \n",
       "                                                                              \n",
       "          ∂ ⎛-Ω(r, t)⋅l(r, t) ⎞           ∂ ⎛-Ω(r, t)⋅l(r, t) ⎞           ∂   \n",
       ")⋅v(r, t)⋅──⎜─────────────────⎟ + μ(r, t)⋅──⎜─────────────────⎟ = G(r, t)⋅──(Ω\n",
       "          ∂r⎝        2        ⎠           ∂t⎝        2        ⎠           ∂r  \n",
       "\n",
       "       \n",
       "       \n",
       "       \n",
       "(r, t))\n",
       "       "
      ]
     },
     "execution_count": 77,
     "metadata": {},
     "output_type": "execute_result"
    }
   ],
   "source": [
    "e = sympy.Symbol('e') # Energy per unit mass\n",
    "Omega = sympy.Symbol('Omega') # Angular velocity\n",
    "eqn_3 = sympy.Eq((mu(r,t)*e(r,t)).diff(t)+(Omega(r,t)*G(r,t)-mu(r,t)*v(r,t)*e(r,t)).diff(r),\n",
    "                G(r,t)*Omega(r,t).diff(r)).subs(e(r,t),-Omega(r,t)*l(r,t)/2)\n",
    "eqn_3"
   ]
  },
  {
   "cell_type": "markdown",
   "metadata": {
    "deletable": true,
    "editable": true
   },
   "source": [
    "Verification of equation 3"
   ]
  },
  {
   "cell_type": "code",
   "execution_count": 81,
   "metadata": {
    "collapsed": false,
    "deletable": true,
    "editable": true
   },
   "outputs": [],
   "source": [
    "_ = eqn_3\n",
    "_ = _.subs(sympy.solve(eqn_1,[mu(r,t).diff(t),G(r,t).diff(r)]))\n",
    "_ = _.subs(Omega(r,t),1/r**sympy.Rational(3,2))\n",
    "_ = _.subs(l(r,t),sympy.sqrt(r))\n",
    "_ = _.doit()\n",
    "_ = _.simplify()\n",
    "assert(_)"
   ]
  },
  {
   "cell_type": "markdown",
   "metadata": {
    "deletable": true,
    "editable": true
   },
   "source": [
    "Equation 4"
   ]
  },
  {
   "cell_type": "code",
   "execution_count": 141,
   "metadata": {
    "collapsed": false,
    "deletable": true,
    "editable": true
   },
   "outputs": [
    {
     "data": {
      "image/png": "[encoded data removed]",
      "text/latex": [
       "$$- \\left(e{\\left (r,t \\right )} + h{\\left (r,t \\right )}\\right) \\mu{\\left (r,t \\right )} \\frac{\\partial}{\\partial r} v{\\left (r,t \\right )} - \\left(e{\\left (r,t \\right )} + h{\\left (r,t \\right )}\\right) v{\\left (r,t \\right )} \\frac{\\partial}{\\partial r} \\mu{\\left (r,t \\right )} + \\left(e{\\left (r,t \\right )} + u{\\left (r,t \\right )}\\right) \\frac{\\partial}{\\partial t} \\mu{\\left (r,t \\right )} - \\left(\\frac{\\partial}{\\partial r} e{\\left (r,t \\right )} + \\frac{\\partial}{\\partial r} h{\\left (r,t \\right )}\\right) \\mu{\\left (r,t \\right )} v{\\left (r,t \\right )} + \\left(\\frac{\\partial}{\\partial t} e{\\left (r,t \\right )} + \\frac{\\partial}{\\partial t} u{\\left (r,t \\right )}\\right) \\mu{\\left (r,t \\right )} + G{\\left (r,t \\right )} \\frac{\\partial}{\\partial r} \\Omega{\\left (r,t \\right )} + \\Omega{\\left (r,t \\right )} \\frac{\\partial}{\\partial r} G{\\left (r,t \\right )} = G \\frac{\\partial}{\\partial r} \\Omega{\\left (r,t \\right )} + T{\\left (r,t \\right )} \\mu{\\left (r,t \\right )} \\frac{\\partial}{\\partial t} s{\\left (r,t \\right )}$$"
      ],
      "text/plain": [
       "                              ∂                                         ∂     \n",
       "- (e(r, t) + h(r, t))⋅μ(r, t)⋅──(v(r, t)) - (e(r, t) + h(r, t))⋅v(r, t)⋅──(μ(r\n",
       "                              ∂r                                        ∂r    \n",
       "\n",
       "                            ∂             ⎛∂             ∂          ⎞         \n",
       ", t)) + (e(r, t) + u(r, t))⋅──(μ(r, t)) - ⎜──(e(r, t)) + ──(h(r, t))⎟⋅μ(r, t)⋅\n",
       "                            ∂t            ⎝∂r            ∂r         ⎠         \n",
       "\n",
       "          ⎛∂             ∂          ⎞                   ∂                     \n",
       "v(r, t) + ⎜──(e(r, t)) + ──(u(r, t))⎟⋅μ(r, t) + G(r, t)⋅──(Ω(r, t)) + Ω(r, t)⋅\n",
       "          ⎝∂t            ∂t         ⎠                   ∂r                    \n",
       "\n",
       "∂               ∂                             ∂          \n",
       "──(G(r, t)) = G⋅──(Ω(r, t)) + T(r, t)⋅μ(r, t)⋅──(s(r, t))\n",
       "∂r              ∂r                            ∂t         "
      ]
     },
     "execution_count": 141,
     "metadata": {},
     "output_type": "execute_result"
    }
   ],
   "source": [
    "u = sympy.Symbol('u') # Thermal energy density\n",
    "h = sympy.Symbol('h') # Specific enthalpy\n",
    "T = sympy.Symbol('T') # Temperature\n",
    "s = sympy.Symbol('s') # Specific entropy\n",
    "sympy.Eq((mu(r,t)*(e(r,t)+u(r,t))).diff(t)+\n",
    "        (Omega(r,t)*G(r,t)-mu(r,t)*v(r,t)*(e(r,t)+h(r,t))).diff(r),\n",
    "        G*Omega(r,t).diff(r)+\n",
    "        mu(r,t)*T(r,t)*s(r,t).diff(t))"
   ]
  },
  {
   "cell_type": "markdown",
   "metadata": {
    "deletable": true,
    "editable": true
   },
   "source": [
    "Equation 6"
   ]
  },
  {
   "cell_type": "code",
   "execution_count": 86,
   "metadata": {
    "collapsed": false,
    "deletable": true,
    "editable": true
   },
   "outputs": [
    {
     "data": {
      "image/png": "[encoded data removed]",
      "text/latex": [
       "$$\\Omega^{2} r - v \\frac{d}{d r} v + \\frac{d}{d t} v = \\frac{1}{\\rho} \\frac{d}{d r} p + \\frac{1}{r^{2}}$$"
      ],
      "text/plain": [
       "                         d         \n",
       "                         ──(p)     \n",
       " 2       d       d       dr      1 \n",
       "Ω ⋅r - v⋅──(v) + ──(v) = ───── + ──\n",
       "         dr      dt        ρ      2\n",
       "                                 r "
      ]
     },
     "execution_count": 86,
     "metadata": {},
     "output_type": "execute_result"
    }
   ],
   "source": [
    "rho = sympy.Symbol('rho') # Mass density\n",
    "p = sympy.Symbol('p') # Pressure\n",
    "eqn_6 = sympy.Eq(sympy.Derivative(v,t)-v*sympy.Derivative(v,r)+Omega**2*r,\n",
    "                1/r**2+sympy.Derivative(p,r)/rho)\n",
    "eqn_6"
   ]
  },
  {
   "cell_type": "markdown",
   "metadata": {
    "deletable": true,
    "editable": true
   },
   "source": [
    "Poitive $v$ is moving toward decreasing r!"
   ]
  },
  {
   "cell_type": "markdown",
   "metadata": {
    "deletable": true,
    "editable": true
   },
   "source": [
    "Equation 7"
   ]
  },
  {
   "cell_type": "code",
   "execution_count": 164,
   "metadata": {
    "collapsed": false,
    "deletable": true,
    "editable": true
   },
   "outputs": [
    {
     "data": {
      "image/png": "[encoded data removed]",
      "text/latex": [
       "$$r \\Omega^{2}{\\left (r,t \\right )} = - \\frac{5}{2 r} a^{2}{\\left (r,t \\right )} + \\frac{1}{r^{2}}$$"
      ],
      "text/plain": [
       "                  2           \n",
       "   2           5⋅a (r, t)   1 \n",
       "r⋅Ω (r, t) = - ────────── + ──\n",
       "                  2⋅r        2\n",
       "                            r "
      ]
     },
     "execution_count": 164,
     "metadata": {},
     "output_type": "execute_result"
    }
   ],
   "source": [
    "_ = eqn_6\n",
    "_ = _.subs(v,0)\n",
    "_ = _.subs(sympy.Derivative(p,r),-5*p/(2*r))\n",
    "_ = _.subs(p,rho*a**2)\n",
    "_ = _.doit()\n",
    "_ = _.subs(a,a(r,t))\n",
    "_ = _.subs(Omega,Omega(r,t))\n",
    "eqn_7 = _\n",
    "eqn_7"
   ]
  },
  {
   "cell_type": "markdown",
   "metadata": {
    "deletable": true,
    "editable": true
   },
   "source": [
    "Equation 8"
   ]
  },
  {
   "cell_type": "code",
   "execution_count": 94,
   "metadata": {
    "collapsed": false,
    "deletable": true,
    "editable": true
   },
   "outputs": [
    {
     "data": {
      "image/png": "[encoded data removed]",
      "text/latex": [
       "$$\\mu{\\left (r,t \\right )} v{\\left (r,t \\right )} = \\dot{m}$$"
      ],
      "text/plain": [
       "μ(r, t)⋅v(r, t) = \\dot{m}"
      ]
     },
     "execution_count": 94,
     "metadata": {},
     "output_type": "execute_result"
    }
   ],
   "source": [
    "dot_m = sympy.Symbol(r'\\dot{m}') # Mass acrretion rate\n",
    "eqn_8 = sympy.Eq(mu(r,t)*v(r,t),dot_m)\n",
    "eqn_8"
   ]
  },
  {
   "cell_type": "markdown",
   "metadata": {
    "deletable": true,
    "editable": true
   },
   "source": [
    "verification of equation 8"
   ]
  },
  {
   "cell_type": "code",
   "execution_count": 107,
   "metadata": {
    "collapsed": false,
    "deletable": true,
    "editable": true
   },
   "outputs": [],
   "source": [
    "_ = sympy.Eq(eqn_8.lhs.diff(r),\n",
    "             eqn_8.rhs.diff(r))\n",
    "_ = _.subs(sympy.solve(eqn_1[0].subs(mu(r,t).diff(t),0),mu(r,t).diff(r),dict=True)[0])\n",
    "assert(_)"
   ]
  },
  {
   "cell_type": "markdown",
   "metadata": {
    "deletable": true,
    "editable": true
   },
   "source": [
    "Equation 9"
   ]
  },
  {
   "cell_type": "code",
   "execution_count": 110,
   "metadata": {
    "collapsed": false,
    "deletable": true,
    "editable": true
   },
   "outputs": [
    {
     "data": {
      "image/png": "[encoded data removed]",
      "text/latex": [
       "$$\\dot{m} r^{2} \\Omega{\\left (r,t \\right )} - G{\\left (r,t \\right )} = F_{l}$$"
      ],
      "text/plain": [
       "         2                       \n",
       "\\dot{m}⋅r ⋅Ω(r, t) - G(r, t) = Fₗ"
      ]
     },
     "execution_count": 110,
     "metadata": {},
     "output_type": "execute_result"
    }
   ],
   "source": [
    "F_l = sympy.Symbol('F_l') # Constant of integration\n",
    "eqn_9 = sympy.Eq(dot_m*r**2*Omega(r,t)-G(r,t),F_l)\n",
    "eqn_9"
   ]
  },
  {
   "cell_type": "markdown",
   "metadata": {
    "deletable": true,
    "editable": true
   },
   "source": [
    "verification of equation 9"
   ]
  },
  {
   "cell_type": "code",
   "execution_count": 124,
   "metadata": {
    "collapsed": false,
    "deletable": true,
    "editable": true
   },
   "outputs": [],
   "source": [
    "_ = sympy.Eq(eqn_9.lhs.diff(r),\n",
    "             eqn_9.rhs.diff(r))\n",
    "_ = _.subs(sympy.solve(eqn_1[1],G(r,t).diff(r),dict=True)[0])\n",
    "_ = _.subs(l(r,t),sympy.sqrt(r))\n",
    "_ = _.subs(sympy.solve(eqn_8,mu(r,t),dict=True)[0])\n",
    "_ = _.subs(Omega(r,t),r**sympy.Rational(-3,2))\n",
    "_ = _.doit()\n",
    "_ = _.subs(v(r,t).diff(t),0)\n",
    "assert(_)"
   ]
  },
  {
   "cell_type": "markdown",
   "metadata": {
    "collapsed": true,
    "deletable": true,
    "editable": true
   },
   "source": [
    "Equation 10"
   ]
  },
  {
   "cell_type": "code",
   "execution_count": 148,
   "metadata": {
    "collapsed": false,
    "deletable": true,
    "editable": true
   },
   "outputs": [
    {
     "data": {
      "image/png": "[encoded data removed]",
      "text/latex": [
       "$$- \\dot{m} \\left(\\frac{\\gamma a^{2}{\\left (r,t \\right )}}{\\gamma - 1} + \\frac{r^{2}}{2} \\Omega^{2}{\\left (r,t \\right )} - \\frac{1}{r}\\right) + G{\\left (r,t \\right )} \\Omega{\\left (r,t \\right )} = F_{E}$$"
      ],
      "text/plain": [
       "          ⎛   2          2  2          ⎞                        \n",
       "          ⎜γ⋅a (r, t)   r ⋅Ω (r, t)   1⎟                        \n",
       "- \\dot{m}⋅⎜────────── + ─────────── - ─⎟ + G(r, t)⋅Ω(r, t) = F_E\n",
       "          ⎝  γ - 1           2        r⎠                        "
      ]
     },
     "execution_count": 148,
     "metadata": {},
     "output_type": "execute_result"
    }
   ],
   "source": [
    "gamma = sympy.Symbol('gamma') # Adiabatic index\n",
    "a = sympy.Symbol('a') # Isothermal speed of sound\n",
    "F_E = sympy.Symbol('F_E') # Integration constant\n",
    "eqn_10 = sympy.Eq(G(r,t)*Omega(r,t)-dot_m*(Omega(r,t)**2*r**2/2-1/r+gamma*a(r,t)**2/(gamma-1)),\n",
    "                 F_E)\n",
    "eqn_10"
   ]
  },
  {
   "cell_type": "markdown",
   "metadata": {
    "deletable": true,
    "editable": true
   },
   "source": [
    "This is simply the second term in the left hand side of equation 4, since the right hand side vanishes."
   ]
  },
  {
   "cell_type": "code",
   "execution_count": 194,
   "metadata": {
    "collapsed": false
   },
   "outputs": [
    {
     "data": {
      "image/png": "[encoded data removed]",
      "text/latex": [
       "$$a^{2}{\\left (r,t \\right )} = \\frac{6 \\gamma - 6}{r \\left(9 \\gamma - 5\\right)}$$"
      ],
      "text/plain": [
       " 2          6⋅(γ - 1) \n",
       "a (r, t) = ───────────\n",
       "           r⋅(9⋅γ - 5)"
      ]
     },
     "execution_count": 194,
     "metadata": {},
     "output_type": "execute_result"
    }
   ],
   "source": [
    "_ = [eqn_7,eqn_9,eqn_10]\n",
    "_ = [itm.subs(F_l,0) for itm in _]\n",
    "_ = [itm.subs(F_E,0) for itm in _]\n",
    "_ = [itm.subs(sympy.solve(_[1],G(r,t),dict=True)[0])\n",
    "     for itm in _]\n",
    "_ = [itm.subs(sympy.solve(_[0],Omega(r,t),dict=True)[0])\n",
    "     for itm in _]\n",
    "_ = sympy.solve(_[2],a(r,t)**2)[0].simplify()\n",
    "eqn_11 = sympy.Eq(a(r,t)**2,_)\n",
    "eqn_11"
   ]
  }
 ],
 "metadata": {
  "kernelspec": {
   "display_name": "Python 3",
   "language": "python",
   "name": "python3"
  },
  "language_info": {
   "codemirror_mode": {
    "name": "ipython",
    "version": 3
   },
   "file_extension": ".py",
   "mimetype": "text/x-python",
   "name": "python",
   "nbconvert_exporter": "python",
   "pygments_lexer": "ipython3",
   "version": "3.6.1"
  }
 },
 "nbformat": 4,
 "nbformat_minor": 2
}
